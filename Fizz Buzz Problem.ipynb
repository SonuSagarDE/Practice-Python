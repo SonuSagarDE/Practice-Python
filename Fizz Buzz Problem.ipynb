{
 "cells": [
  {
   "cell_type": "code",
   "execution_count": null,
   "id": "c4e853ec",
   "metadata": {},
   "outputs": [],
   "source": [
    "## If the number is divisible by 3, write Fizz instead of the number\n",
    "## If the number is divisible by 5, write Buzz instead of the number\n",
    "## If the number is divisible by 3 and 5 both, write FizzBuzz instead of the number"
   ]
  },
  {
   "cell_type": "code",
   "execution_count": null,
   "id": "11831fa2",
   "metadata": {},
   "outputs": [],
   "source": []
  }
 ],
 "metadata": {
  "kernelspec": {
   "display_name": "Python 3 (ipykernel)",
   "language": "python",
   "name": "python3"
  },
  "language_info": {
   "codemirror_mode": {
    "name": "ipython",
    "version": 3
   },
   "file_extension": ".py",
   "mimetype": "text/x-python",
   "name": "python",
   "nbconvert_exporter": "python",
   "pygments_lexer": "ipython3",
   "version": "3.9.12"
  }
 },
 "nbformat": 4,
 "nbformat_minor": 5
}
