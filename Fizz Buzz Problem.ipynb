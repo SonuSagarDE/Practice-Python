{
 "cells": [
  {
   "cell_type": "code",
   "execution_count": null,
   "id": "c4e853ec",
   "metadata": {},
   "outputs": [],
   "source": [
    "## If the number is divisible by 3, write Fizz instead of the number\n",
    "## If the number is divisible by 5, write Buzz instead of the number\n",
    "## If the number is divisible by 3 and 5 both, write FizzBuzz instead of the number"
   ]
  },
  {
   "cell_type": "code",
   "execution_count": 1,
   "id": "11831fa2",
   "metadata": {},
   "outputs": [],
   "source": [
    "class Solution(object):\n",
    "   def fizzBuzz(self, n):\n",
    "      \"\"\"\n",
    "      :type n: int\n",
    "      :rtype: List[str]\n",
    "      \"\"\"\n",
    "      result = []\n",
    "      for i in range(1,n+1):\n",
    "         if i% 3== 0 and i%5==0:\n",
    "            result.append(\"FizzBuzz\")\n",
    "         elif i %3==0:\n",
    "            result.append(\"Fizz\")\n",
    "         elif i% 5 == 0:\n",
    "            result.append(\"Buzz\")\n",
    "         else:\n",
    "            result.append(str(i))\n",
    "      return result"
   ]
  },
  {
   "cell_type": "code",
   "execution_count": 2,
   "id": "29409ad7",
   "metadata": {},
   "outputs": [
    {
     "name": "stdout",
     "output_type": "stream",
     "text": [
      "['1', '2', 'Fizz', '4', 'Buzz', 'Fizz', '7', '8', 'Fizz', 'Buzz', '11', 'Fizz', '13', '14', 'FizzBuzz', '16', '17', 'Fizz', '19', 'Buzz', 'Fizz', '22', '23', 'Fizz', 'Buzz', '26', 'Fizz', '28', '29', 'FizzBuzz']\n"
     ]
    }
   ],
   "source": [
    "ob1 = Solution()\n",
    "print(ob1.fizzBuzz(30))"
   ]
  },
  {
   "cell_type": "code",
   "execution_count": null,
   "id": "53747451",
   "metadata": {},
   "outputs": [],
   "source": []
  }
 ],
 "metadata": {
  "kernelspec": {
   "display_name": "Python 3 (ipykernel)",
   "language": "python",
   "name": "python3"
  },
  "language_info": {
   "codemirror_mode": {
    "name": "ipython",
    "version": 3
   },
   "file_extension": ".py",
   "mimetype": "text/x-python",
   "name": "python",
   "nbconvert_exporter": "python",
   "pygments_lexer": "ipython3",
   "version": "3.9.12"
  }
 },
 "nbformat": 4,
 "nbformat_minor": 5
}
