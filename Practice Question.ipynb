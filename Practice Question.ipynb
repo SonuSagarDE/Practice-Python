{
 "cells": [
  {
   "cell_type": "code",
   "execution_count": 1,
   "id": "33b89e35",
   "metadata": {},
   "outputs": [],
   "source": [
    "# Find the pairs of indexes which is giving Target Sum\n",
    "# Assumotions: Samepair is neglected,List is having Positive numbers"
   ]
  },
  {
   "cell_type": "code",
   "execution_count": 2,
   "id": "f3287f6a",
   "metadata": {},
   "outputs": [],
   "source": [
    "List=[1,2,4,7,9]"
   ]
  },
  {
   "cell_type": "code",
   "execution_count": 21,
   "id": "07e78df1",
   "metadata": {},
   "outputs": [],
   "source": [
    "def findpairs(list,target):\n",
    "    for i in range(len(list)):\n",
    "        for j in range(i+1,len(list)):\n",
    "            if list[i]==list[j]:\n",
    "                continue\n",
    "            elif list[i]+list[j]==target:\n",
    "                print(i,j)\n",
    "            \n",
    "        "
   ]
  },
  {
   "cell_type": "code",
   "execution_count": 22,
   "id": "38e1a825",
   "metadata": {},
   "outputs": [],
   "source": [
    "list=[1,2,3,4,5,6,3]"
   ]
  },
  {
   "cell_type": "code",
   "execution_count": 23,
   "id": "bb03b0de",
   "metadata": {},
   "outputs": [
    {
     "name": "stdout",
     "output_type": "stream",
     "text": [
      "0 4\n",
      "1 3\n"
     ]
    }
   ],
   "source": [
    "findpairs(list,6)"
   ]
  },
  {
   "cell_type": "code",
   "execution_count": 24,
   "id": "73ccf205",
   "metadata": {},
   "outputs": [],
   "source": [
    "# Question 2: If an array contains a certain number or not"
   ]
  },
  {
   "cell_type": "code",
   "execution_count": 37,
   "id": "f6e7aff3",
   "metadata": {},
   "outputs": [],
   "source": [
    "import numpy as np\n",
    "MyArray=np.array([1,2,3,4,5,6])"
   ]
  },
  {
   "cell_type": "code",
   "execution_count": 45,
   "id": "78a02dfb",
   "metadata": {},
   "outputs": [],
   "source": [
    "def ifNumberPresent(numbers_array,targnum):\n",
    "    for i in range(len(numbers_array)):\n",
    "        if numbers_array[i]==targnum:\n",
    "            print(\"Number Present\")\n",
    "       \n",
    "            "
   ]
  },
  {
   "cell_type": "code",
   "execution_count": 46,
   "id": "5b36d93d",
   "metadata": {},
   "outputs": [],
   "source": [
    "ifNumberPresent(MyArray,7)"
   ]
  },
  {
   "cell_type": "code",
   "execution_count": 47,
   "id": "ce0dae1a",
   "metadata": {},
   "outputs": [],
   "source": [
    "# Question 3: Max product of two integers in the array where all elements are positive"
   ]
  },
  {
   "cell_type": "code",
   "execution_count": 51,
   "id": "474377a5",
   "metadata": {},
   "outputs": [],
   "source": [
    "import numpy as np\n",
    "MyArray=np.array([1,20,44,79,8,9,10,21,13,12,15])"
   ]
  },
  {
   "cell_type": "code",
   "execution_count": 53,
   "id": "1f3bb990",
   "metadata": {},
   "outputs": [],
   "source": [
    "def maxproduct(numbers):\n",
    "    maxProduct=0\n",
    "    for i in range(len(numbers)):\n",
    "        for j in range(i+1,len(numbers)):\n",
    "            if numbers[i]*numbers[j]>maxProduct:\n",
    "                maxProduct=numbers[i]*numbers[j]\n",
    "                pairs=str(numbers[i])+\",\"+str(numbers[j])\n",
    "    print(pairs)\n",
    "    print(maxProduct)\n",
    "                                       "
   ]
  },
  {
   "cell_type": "code",
   "execution_count": 54,
   "id": "30bea175",
   "metadata": {},
   "outputs": [
    {
     "name": "stdout",
     "output_type": "stream",
     "text": [
      "44,79\n",
      "3476\n"
     ]
    }
   ],
   "source": [
    "maxproduct(MyArray)"
   ]
  },
  {
   "cell_type": "code",
   "execution_count": 55,
   "id": "fd30cf44",
   "metadata": {},
   "outputs": [],
   "source": [
    "# Question 4: Implement an algo to determine if List has all unique items"
   ]
  },
  {
   "cell_type": "code",
   "execution_count": 77,
   "id": "76739775",
   "metadata": {},
   "outputs": [],
   "source": [
    "myList=[1,2,3,4,5,6,19,18,19,34,56,3]"
   ]
  },
  {
   "cell_type": "code",
   "execution_count": 75,
   "id": "a7494222",
   "metadata": {},
   "outputs": [],
   "source": [
    "#Solution1\n",
    "def isUnqiue(list):\n",
    "    for i in range(len(list)):\n",
    "        for j in range(i+1,len(list)):\n",
    "            if list[i]==list[j]:\n",
    "                message=\"Duplicate Found\"\n",
    "            else:\n",
    "                message=\"Duplicate Not Found\"\n",
    "    print(message)      "
   ]
  },
  {
   "cell_type": "code",
   "execution_count": 76,
   "id": "3a19db27",
   "metadata": {},
   "outputs": [
    {
     "name": "stdout",
     "output_type": "stream",
     "text": [
      "Duplicate Not Found\n"
     ]
    }
   ],
   "source": [
    "isUnqiue(myList)"
   ]
  },
  {
   "cell_type": "code",
   "execution_count": 91,
   "id": "45d04fdd",
   "metadata": {},
   "outputs": [],
   "source": [
    "#Solution2\n",
    "def isUnique(list):\n",
    "    a=[]\n",
    "    for i in list:\n",
    "        if i in a:\n",
    "            print(i)\n",
    "            return False\n",
    "        else:\n",
    "            a.append(i)\n",
    "    return True\n",
    "#print(isUnique(myList))"
   ]
  },
  {
   "cell_type": "code",
   "execution_count": 94,
   "id": "22f38b06",
   "metadata": {},
   "outputs": [],
   "source": [
    "myList=[1,2,3,4,5,6,19,18,34,34,56]"
   ]
  },
  {
   "cell_type": "code",
   "execution_count": 95,
   "id": "c5142ed1",
   "metadata": {},
   "outputs": [
    {
     "name": "stdout",
     "output_type": "stream",
     "text": [
      "34\n"
     ]
    },
    {
     "data": {
      "text/plain": [
       "False"
      ]
     },
     "execution_count": 95,
     "metadata": {},
     "output_type": "execute_result"
    }
   ],
   "source": [
    "isUnique(myList)"
   ]
  },
  {
   "cell_type": "code",
   "execution_count": 96,
   "id": "152b0461",
   "metadata": {},
   "outputs": [],
   "source": [
    "# Question 5: Check permutation in two Lists"
   ]
  },
  {
   "cell_type": "code",
   "execution_count": 107,
   "id": "2504cb0e",
   "metadata": {},
   "outputs": [],
   "source": [
    "def permutation(list1,list2):\n",
    "    if len(list1)==len(list2):\n",
    "        for i in range(len(list1)) :\n",
    "            for j in range(i+1,len(list1)):\n",
    "                if list1[i]==list2[j]:\n",
    "                    return True\n",
    "    else: \n",
    "        return False\n",
    "                "
   ]
  },
  {
   "cell_type": "code",
   "execution_count": 110,
   "id": "5c274231",
   "metadata": {},
   "outputs": [],
   "source": [
    "list1=[1,2,3,4]\n",
    "list2=[1,4,3,2]"
   ]
  },
  {
   "cell_type": "code",
   "execution_count": 111,
   "id": "b1ebc711",
   "metadata": {},
   "outputs": [
    {
     "data": {
      "text/plain": [
       "True"
      ]
     },
     "execution_count": 111,
     "metadata": {},
     "output_type": "execute_result"
    }
   ],
   "source": [
    "permutation(list1,list2)"
   ]
  },
  {
   "cell_type": "code",
   "execution_count": 120,
   "id": "001069c7",
   "metadata": {},
   "outputs": [],
   "source": [
    "def permutation(list1,list2):\n",
    "    if len(list1)!=len(list2):\n",
    "        return False\n",
    "    list1.sort()\n",
    "    list2.sort()\n",
    "    if list1==list2:\n",
    "        return True\n",
    "    else:\n",
    "        return False\n",
    "                "
   ]
  },
  {
   "cell_type": "code",
   "execution_count": 121,
   "id": "31e47356",
   "metadata": {},
   "outputs": [],
   "source": [
    "list1=[1,2,3,4]\n",
    "list2=[1,4,5,2]"
   ]
  },
  {
   "cell_type": "code",
   "execution_count": 122,
   "id": "b3e8ef67",
   "metadata": {},
   "outputs": [
    {
     "data": {
      "text/plain": [
       "False"
      ]
     },
     "execution_count": 122,
     "metadata": {},
     "output_type": "execute_result"
    }
   ],
   "source": [
    "permutation(list1,list2)"
   ]
  },
  {
   "cell_type": "code",
   "execution_count": 123,
   "id": "b6306853",
   "metadata": {},
   "outputs": [],
   "source": [
    "#Question 6: Rotate Matrix"
   ]
  },
  {
   "cell_type": "code",
   "execution_count": 125,
   "id": "d66d1160",
   "metadata": {},
   "outputs": [],
   "source": [
    "import numpy as np\n",
    "myArray=np.array([[1,2,3],[4,5,6],[7,8,9]])"
   ]
  },
  {
   "cell_type": "code",
   "execution_count": 126,
   "id": "ab80048a",
   "metadata": {},
   "outputs": [
    {
     "data": {
      "text/plain": [
       "array([[1, 2, 3],\n",
       "       [4, 5, 6],\n",
       "       [7, 8, 9]])"
      ]
     },
     "execution_count": 126,
     "metadata": {},
     "output_type": "execute_result"
    }
   ],
   "source": [
    "myArray"
   ]
  },
  {
   "cell_type": "code",
   "execution_count": null,
   "id": "88a5eb52",
   "metadata": {},
   "outputs": [],
   "source": []
  }
 ],
 "metadata": {
  "kernelspec": {
   "display_name": "Python 3 (ipykernel)",
   "language": "python",
   "name": "python3"
  },
  "language_info": {
   "codemirror_mode": {
    "name": "ipython",
    "version": 3
   },
   "file_extension": ".py",
   "mimetype": "text/x-python",
   "name": "python",
   "nbconvert_exporter": "python",
   "pygments_lexer": "ipython3",
   "version": "3.9.7"
  }
 },
 "nbformat": 4,
 "nbformat_minor": 5
}
