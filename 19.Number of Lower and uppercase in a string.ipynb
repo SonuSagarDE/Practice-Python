{
 "cells": [
  {
   "cell_type": "code",
   "execution_count": null,
   "id": "3aeaaf25",
   "metadata": {},
   "outputs": [],
   "source": [
    "# Calculate the Number of Lower and uppercase in a string\n",
    "def up_low(s):\n",
    "    d={'upper':0,'lower':0}\n",
    "#     lowercase=0\n",
    "#     uppercase=0\n",
    "    \n",
    "    for char in s:\n",
    "        if char.isupper():\n",
    "            d['upper']+=1\n",
    "        elif char.islower():\n",
    "            d['lower']+=1\n",
    "        else:\n",
    "            pass\n",
    "    print(f\"Orignal String: {s}\")  \n",
    "    print(f'Lowercase count:{d[\"lower\"]}')\n",
    "    print(f'Uppercase count:{d[\"upper\"]}')\n"
   ]
  }
 ],
 "metadata": {
  "kernelspec": {
   "display_name": "Python 3 (ipykernel)",
   "language": "python",
   "name": "python3"
  },
  "language_info": {
   "codemirror_mode": {
    "name": "ipython",
    "version": 3
   },
   "file_extension": ".py",
   "mimetype": "text/x-python",
   "name": "python",
   "nbconvert_exporter": "python",
   "pygments_lexer": "ipython3",
   "version": "3.9.7"
  }
 },
 "nbformat": 4,
 "nbformat_minor": 5
}
