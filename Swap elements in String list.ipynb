{
 "cells": [
  {
   "cell_type": "code",
   "execution_count": null,
   "id": "2ff2aea9",
   "metadata": {},
   "outputs": [],
   "source": [
    "Inp:['Gfg', 'is', 'best', 'for', 'Geeks']\n",
    "out:['efg', 'is', 'bGst', 'for', 'eGGks']\n",
    "    \n",
    "#Swap G with e and vice versa    "
   ]
  },
  {
   "cell_type": "code",
   "execution_count": 11,
   "id": "619718ff",
   "metadata": {},
   "outputs": [],
   "source": [
    "def Swap_elements(list1):\n",
    "        res =[sub.replace('G', '-').replace('e', 'G').replace('-', 'e') for sub in list1]\n",
    "        return str(res)"
   ]
  },
  {
   "cell_type": "code",
   "execution_count": 12,
   "id": "7b88ff2c",
   "metadata": {},
   "outputs": [
    {
     "data": {
      "text/plain": [
       "\"['efg', 'is', 'bGst', 'for', 'eGGks']\""
      ]
     },
     "execution_count": 12,
     "metadata": {},
     "output_type": "execute_result"
    }
   ],
   "source": [
    "Inp=['Gfg', 'is', 'best', 'for', 'Geeks']\n",
    "Swap_elements(Inp)"
   ]
  },
  {
   "cell_type": "code",
   "execution_count": 26,
   "id": "615b7985",
   "metadata": {},
   "outputs": [
    {
     "name": "stdout",
     "output_type": "stream",
     "text": [
      "['efg', 'is', 'bGst', 'for', 'eGGks']\n"
     ]
    }
   ],
   "source": [
    "test_list=['Gfg', 'is', 'best', 'for', 'Geeks']\n",
    "res = \", \".join(test_list)\n",
    "#print(res)\n",
    "res = res.replace(\"G\", \"_\").replace(\"e\", \"G\").replace(\"_\", \"e\").split(', ')\n",
    "print(res)\n",
    " "
   ]
  },
  {
   "cell_type": "code",
   "execution_count": null,
   "id": "e24e69e3",
   "metadata": {},
   "outputs": [],
   "source": []
  }
 ],
 "metadata": {
  "kernelspec": {
   "display_name": "Python 3 (ipykernel)",
   "language": "python",
   "name": "python3"
  },
  "language_info": {
   "codemirror_mode": {
    "name": "ipython",
    "version": 3
   },
   "file_extension": ".py",
   "mimetype": "text/x-python",
   "name": "python",
   "nbconvert_exporter": "python",
   "pygments_lexer": "ipython3",
   "version": "3.9.12"
  }
 },
 "nbformat": 4,
 "nbformat_minor": 5
}
